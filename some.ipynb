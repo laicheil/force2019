#!/usr/bin/env python3
# vim: set ft=python sts=4 ts=4 sw=4 expandtab fo-=t tw=100 cc=+1:

from blank import something

something()
