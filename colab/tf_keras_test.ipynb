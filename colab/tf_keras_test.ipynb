{
  "nbformat": 4,
  "nbformat_minor": 0,
  "metadata": {
    "colab": {
      "name": "tf_keras_test.ipynb",
      "provenance": [],
      "collapsed_sections": []
    },
    "kernelspec": {
      "name": "python3",
      "display_name": "Python 3"
    },
    "accelerator": "GPU"
  },
  "cells": [
    {
      "cell_type": "code",
      "metadata": {
        "id": "gXuucO6Y5obP",
        "colab_type": "code",
        "colab": {}
      },
      "source": [
        "from tensorflow.python.client import device_lib\n",
        "import numpy as np\n",
        "#device_lib.list_local_devices()"
      ],
      "execution_count": 0,
      "outputs": []
    },
    {
      "cell_type": "markdown",
      "metadata": {
        "id": "z1d95RNbeqFW",
        "colab_type": "text"
      },
      "source": [
        "Upload the data files"
      ]
    },
    {
      "cell_type": "code",
      "metadata": {
        "id": "o72sA4UEfUk5",
        "colab_type": "code",
        "outputId": "06e546b8-437d-4c91-b1df-07f4e750f0ab",
        "colab": {
          "resources": {
            "http://localhost:8080/nbextensions/google.colab/files.js": {
              "data": "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",
              "ok": true,
              "headers": [
                [
                  "content-type",
                  "application/javascript"
                ]
              ],
              "status": 200,
              "status_text": ""
            }
          },
          "base_uri": "https://localhost:8080/",
          "height": 74
        }
      },
      "source": [
        "from google.colab import files\n",
        "\n",
        "uploaded = files.upload()\n",
        "\n",
        "#for fn in uploaded.keys():\n",
        "#  print('User uploaded file \"{name}\" with length {length} bytes'.format(\n",
        "#      name=fn, length=len(uploaded[fn])))"
      ],
      "execution_count": 0,
      "outputs": [
        {
          "output_type": "display_data",
          "data": {
            "text/html": [
              "\n",
              "     <input type=\"file\" id=\"files-254b0788-453a-444c-bef1-cb7d55e348cf\" name=\"files[]\" multiple disabled />\n",
              "     <output id=\"result-254b0788-453a-444c-bef1-cb7d55e348cf\">\n",
              "      Upload widget is only available when the cell has been executed in the\n",
              "      current browser session. Please rerun this cell to enable.\n",
              "      </output>\n",
              "      <script src=\"/nbextensions/google.colab/files.js\"></script> "
            ],
            "text/plain": [
              "<IPython.core.display.HTML object>"
            ]
          },
          "metadata": {
            "tags": []
          }
        },
        {
          "output_type": "stream",
          "text": [
            "Saving hackathon_training_data.zip to hackathon_training_data.zip\n"
          ],
          "name": "stdout"
        }
      ]
    },
    {
      "cell_type": "code",
      "metadata": {
        "id": "LpSFdRDBKlKx",
        "colab_type": "code",
        "colab": {}
      },
      "source": [
        "!mkdir hackathon_training_data \n",
        "!unzip hackathon_training_data.zip -d hackathon_training_data\n",
        "!ls hackathon_training_data/"
      ],
      "execution_count": 0,
      "outputs": []
    },
    {
      "cell_type": "code",
      "metadata": {
        "id": "YlEkzGNjX0mp",
        "colab_type": "code",
        "colab": {}
      },
      "source": [
        "#clone the datasets repository\n",
        "!\\rm -r force2019-data-000; git clone https://github.com/laicheil/force2019-data-000.git;ls force2019-data-000/"
      ],
      "execution_count": 0,
      "outputs": []
    },
    {
      "cell_type": "code",
      "metadata": {
        "id": "dCP025ir02fF",
        "colab_type": "code",
        "outputId": "f05997b6-27e4-4bf2-f83d-cd2e38e69f81",
        "colab": {
          "base_uri": "https://localhost:8080/",
          "height": 121
        }
      },
      "source": [
        "from google.colab import drive\n",
        "drive.mount('/content/drive')"
      ],
      "execution_count": 0,
      "outputs": [
        {
          "output_type": "stream",
          "text": [
            "Go to this URL in a browser: https://accounts.google.com/o/oauth2/auth?client_id=947318989803-6bn6qk8qdgf4n4g3pfee6491hc0brc4i.apps.googleusercontent.com&redirect_uri=urn%3Aietf%3Awg%3Aoauth%3A2.0%3Aoob&scope=email%20https%3A%2F%2Fwww.googleapis.com%2Fauth%2Fdocs.test%20https%3A%2F%2Fwww.googleapis.com%2Fauth%2Fdrive%20https%3A%2F%2Fwww.googleapis.com%2Fauth%2Fdrive.photos.readonly%20https%3A%2F%2Fwww.googleapis.com%2Fauth%2Fpeopleapi.readonly&response_type=code\n",
            "\n",
            "Enter your authorization code:\n",
            "··········\n",
            "Mounted at /content/drive\n"
          ],
          "name": "stdout"
        }
      ]
    },
    {
      "cell_type": "code",
      "metadata": {
        "id": "EiasgxH1LTEf",
        "colab_type": "code",
        "outputId": "d0e07900-2d99-4a4c-cabf-e4b43ca54644",
        "colab": {
          "base_uri": "https://localhost:8080/",
          "height": 229
        }
      },
      "source": [
        "import os\n",
        "import json\n",
        "#data_path = os.path.join('force2019-data-000', 'data-001')#'hackathon_training_data'\n",
        "data_path = os.path.join('/content/drive/My Drive/force-hackathon-2019', 'data-002') \n",
        "num_of_files = 0\n",
        "list_of_files = os.listdir(data_path)\n",
        "for filename in list_of_files:\n",
        "  num_of_files = max (num_of_files,int(filename.split('.')[0].split('_')[-1]))\n",
        "num_of_files\n",
        "num_of_files *= 2\n",
        "#num_of_files = len(list_of_files)\n",
        "first_file_path = os.path.join(data_path, list_of_files[0])\n",
        "#print (first_file_path)\n",
        "with open(first_file_path,'r') as read_file:\n",
        "  shape_of_files = (num_of_files,) + np.asarray(json.load(read_file)).shape + (2, )\n",
        "#print (shape_of_files)\n",
        "\n",
        "\n",
        "data = np.zeros((shape_of_files))\n",
        "labels = np.zeros(num_of_files)\n",
        "labels_ce = np.zeros((num_of_files,2))\n",
        "for filename in os.listdir(data_path):\n",
        "\n",
        "  if not filename.startswith('seismic'):\n",
        "    splitted_name = filename.split('.')[0].split('_')\n",
        "    if splitted_name[1] == 'seismic':\n",
        "      continue\n",
        "    chan = int(splitted_name[0]=='topa')\n",
        "    i = int(splitted_name[-1])\n",
        "    is_good = int (splitted_name[1] is 'good')\n",
        "    full_path = os.path.join(data_path,filename)\n",
        "    labels[i] = is_good #int(filename.startswith('good'))\n",
        "    labels_ce[i, is_good] = 1\n",
        "    with open(full_path,'r') as read_file:\n",
        "        loaded = np.asarray(json.load(read_file))\n",
        "        mask = np.zeros_like(loaded)\n",
        "        mask[np.argwhere(loaded > 999990)] = 1\n",
        "        data[i, :, :, chan] = loaded\n",
        "\n",
        "print('labels shape', labels.shape)\n",
        "print('labels for CE shape', labels_ce.shape)\n",
        "print('data shape', data.shape)"
      ],
      "execution_count": 0,
      "outputs": [
        {
          "output_type": "error",
          "ename": "IndexError",
          "evalue": "ignored",
          "traceback": [
            "\u001b[0;31m---------------------------------------------------------------------------\u001b[0m",
            "\u001b[0;31mIndexError\u001b[0m                                Traceback (most recent call last)",
            "\u001b[0;32m<ipython-input-15-a9bf4898923a>\u001b[0m in \u001b[0;36m<module>\u001b[0;34m()\u001b[0m\n\u001b[1;32m     29\u001b[0m     \u001b[0mis_good\u001b[0m \u001b[0;34m=\u001b[0m \u001b[0mint\u001b[0m \u001b[0;34m(\u001b[0m\u001b[0msplitted_name\u001b[0m\u001b[0;34m[\u001b[0m\u001b[0;36m1\u001b[0m\u001b[0;34m]\u001b[0m \u001b[0;32mis\u001b[0m \u001b[0;34m'good'\u001b[0m\u001b[0;34m)\u001b[0m\u001b[0;34m\u001b[0m\u001b[0;34m\u001b[0m\u001b[0m\n\u001b[1;32m     30\u001b[0m     \u001b[0mfull_path\u001b[0m \u001b[0;34m=\u001b[0m \u001b[0mos\u001b[0m\u001b[0;34m.\u001b[0m\u001b[0mpath\u001b[0m\u001b[0;34m.\u001b[0m\u001b[0mjoin\u001b[0m\u001b[0;34m(\u001b[0m\u001b[0mdata_path\u001b[0m\u001b[0;34m,\u001b[0m\u001b[0mfilename\u001b[0m\u001b[0;34m)\u001b[0m\u001b[0;34m\u001b[0m\u001b[0;34m\u001b[0m\u001b[0m\n\u001b[0;32m---> 31\u001b[0;31m     \u001b[0mlabels\u001b[0m\u001b[0;34m[\u001b[0m\u001b[0mi\u001b[0m\u001b[0;34m]\u001b[0m \u001b[0;34m=\u001b[0m \u001b[0mis_good\u001b[0m \u001b[0;31m#int(filename.startswith('good'))\u001b[0m\u001b[0;34m\u001b[0m\u001b[0;34m\u001b[0m\u001b[0m\n\u001b[0m\u001b[1;32m     32\u001b[0m     \u001b[0mlabels_ce\u001b[0m\u001b[0;34m[\u001b[0m\u001b[0mi\u001b[0m\u001b[0;34m,\u001b[0m \u001b[0mis_good\u001b[0m\u001b[0;34m]\u001b[0m \u001b[0;34m=\u001b[0m \u001b[0;36m1\u001b[0m\u001b[0;34m\u001b[0m\u001b[0;34m\u001b[0m\u001b[0m\n\u001b[1;32m     33\u001b[0m     \u001b[0;32mwith\u001b[0m \u001b[0mopen\u001b[0m\u001b[0;34m(\u001b[0m\u001b[0mfull_path\u001b[0m\u001b[0;34m,\u001b[0m\u001b[0;34m'r'\u001b[0m\u001b[0;34m)\u001b[0m \u001b[0;32mas\u001b[0m \u001b[0mread_file\u001b[0m\u001b[0;34m:\u001b[0m\u001b[0;34m\u001b[0m\u001b[0;34m\u001b[0m\u001b[0m\n",
            "\u001b[0;31mIndexError\u001b[0m: index 99 is out of bounds for axis 0 with size 99"
          ]
        }
      ]
    },
    {
      "cell_type": "code",
      "metadata": {
        "id": "g5hN-4F3_Ztk",
        "colab_type": "code",
        "outputId": "63b06e62-2dde-4d48-d077-1aa3e47f7323",
        "colab": {
          "base_uri": "https://localhost:8080/",
          "height": 34
        }
      },
      "source": [
        "data.shape\n",
        "loaded.shape\n",
        "i\n",
        "#data[i, :, :, chan] = loaded"
      ],
      "execution_count": 0,
      "outputs": [
        {
          "output_type": "execute_result",
          "data": {
            "text/plain": [
              "'0'"
            ]
          },
          "metadata": {
            "tags": []
          },
          "execution_count": 12
        }
      ]
    },
    {
      "cell_type": "code",
      "metadata": {
        "id": "I4Gq5PNkRZRJ",
        "colab_type": "code",
        "colab": {}
      },
      "source": [
        "print(labels)\n",
        "print(os.listdir(data_path))"
      ],
      "execution_count": 0,
      "outputs": []
    },
    {
      "cell_type": "markdown",
      "metadata": {
        "id": "bVBnG4gIbIzq",
        "colab_type": "text"
      },
      "source": [
        "\n",
        "\n",
        "Image data generators for the inputs"
      ]
    },
    {
      "cell_type": "code",
      "metadata": {
        "id": "xFkTESbpbN8H",
        "colab_type": "code",
        "colab": {}
      },
      "source": [
        "from tensorflow.keras.preprocessing import image\n",
        "from sklearn.model_selection import train_test_split\n",
        "\n",
        "datagen = image.ImageDataGenerator (\n",
        "    #featurewise_center = True,\n",
        "    #featurewise_std_normalization=True,\n",
        "    #samplewise_center = True,\n",
        "    #samplewise_std_normalization=True,\n",
        "    vertical_flip=True,\n",
        "    horizontal_flip=True,\n",
        "    rotation_range=90)\n",
        "datagen.fit (data)\n",
        "\n",
        "train_samples, validation_samples, train_labels, validation_labels = train_test_split(data, labels, test_size=.334)\n",
        "\n",
        "train_generator         = datagen.flow(train_samples, train_labels, batch_size=32)\n",
        "validation_generator    = datagen.flow(validation_samples , validation_labels , batch_size=32)\n",
        "\n",
        "\n",
        "train_samples_ce, validation_samples_ce, train_labels_ce, validation_labels_ce = train_test_split(data, labels_ce, test_size=.334)\n",
        "train_ce_generator         = datagen.flow(train_samples_ce, train_labels_ce, batch_size=32)\n",
        "validation_ce_generator    = datagen.flow(validation_samples_ce , validation_labels_ce , batch_size=32)\n",
        "\n",
        "test_ce_generator = validation_ce_generator"
      ],
      "execution_count": 0,
      "outputs": []
    },
    {
      "cell_type": "markdown",
      "metadata": {
        "id": "D8QLIACeynRR",
        "colab_type": "text"
      },
      "source": [
        "[link text](https://)Loading the ResNet50 model from the tensorflow-keras library"
      ]
    },
    {
      "cell_type": "code",
      "metadata": {
        "id": "YtxkH6ANvD_8",
        "colab_type": "code",
        "outputId": "a31426f6-e944-4cf1-cf33-87a7635c57c1",
        "colab": {
          "base_uri": "https://localhost:8080/",
          "height": 34
        }
      },
      "source": [
        "from tensorflow.keras.applications.resnet50 import ResNet50\n",
        "from tensorflow.keras.applications.resnet50 import preprocess_input, decode_predictions\n",
        "\n",
        "\n",
        "import tensorflow as tf\n",
        "\n",
        "config = tf.ConfigProto()\n",
        "config.gpu_options.allow_growth = True\n",
        "#config.gpu_options.per_process_gpu_memory_fraction = 0.33\n",
        "\n",
        "from tensorflow.python.keras import backend as K\n",
        "#with tf.device('/device:GPU:0'):\n",
        "K.set_session (tf.Session (config = config))\n",
        "\n",
        "print('DONE LOADING MODEL')"
      ],
      "execution_count": 0,
      "outputs": [
        {
          "output_type": "stream",
          "text": [
            "DONE LOADING MODEL\n"
          ],
          "name": "stdout"
        }
      ]
    },
    {
      "cell_type": "markdown",
      "metadata": {
        "id": "yLPY3MvXp796",
        "colab_type": "text"
      },
      "source": [
        "Callbacks"
      ]
    },
    {
      "cell_type": "code",
      "metadata": {
        "id": "iwszrJh1p-FK",
        "colab_type": "code",
        "colab": {}
      },
      "source": [
        "import tensorflow.keras.callbacks as tfkc\n",
        "import datetimeimport tensorflow.keras.callbacks as tfkc\n",
        "\n",
        "now = datetime.datetime.now ()\n",
        "date_str = now.strftime('%Y%m%d%H%M')\n",
        "checkpoint_init_name = 'init_chkpnt_'+date_str+'.hdf5'\n",
        "from tensorflow.python.keras.callbacks import CSVLogger, EarlyStopping, ModelCheckpoint\n",
        "callbacks = [ \n",
        "      \n",
        "        EarlyStopping (monitor='val_acc', patience=9, verbose=1),\n",
        "        ModelCheckpoint(checkpoint_init_name, monitor='val_acc', save_best_only=True, save_weights_only=True, verbose=1),\n",
        "        tfkc.TensorBoard(log_dir=os.path.join('/content/drive/My Drive/force-hackathon-2019', 'tbg', now.strftime('%Y%m%d%H%M%S')), histogram_freq=0, write_graph=True, write_images=True)\n",
        "        ]"
      ],
      "execution_count": 0,
      "outputs": []
    },
    {
      "cell_type": "code",
      "metadata": {
        "id": "bwZavmRKPppS",
        "colab_type": "code",
        "colab": {}
      },
      "source": [
        "from tensorflow.keras.layers import Conv2D, MaxPooling2D, Dropout\n",
        "def simpleNet (input_tensor=None):\n",
        "  if input_tensor is None:\n",
        "    return None\n",
        "  def convBlock (units, input_tensor):\n",
        "    x = Conv2D(units, (3, 3), padding='same', activation = 'relu')(input_tensor)\n",
        "    x = Conv2D(units, (3, 3), activation = 'relu')(x)\n",
        "    x = MaxPooling2D(pool_size=(2, 2)) (x)\n",
        "    x = Dropout(0.25) (x)\n",
        "    return x\n",
        "  \n",
        "  t = convBlock(32, input_tensor)\n",
        "  t = convBlock(64, t)\n",
        "  return t"
      ],
      "execution_count": 0,
      "outputs": []
    },
    {
      "cell_type": "code",
      "metadata": {
        "id": "bzQnjODcomUq",
        "colab_type": "code",
        "colab": {}
      },
      "source": [
        "from tensorflow.keras.models import Model\n",
        "from tensorflow.keras.layers import Input,Lambda, Dense, Flatten, Dropout\n",
        "from tensorflow.image import grayscale_to_rgb\n",
        "use_resnet = False\n",
        "## inputs\n",
        "inputs = Input (shape=data.shape[1:])#samples.shape[1:]\n",
        "\n",
        "# the base model\n",
        "if use_resnet:\n",
        "  x = Lambda (lambda x: grayscale_to_rgb (x), name='grayscale_to_rgb') (inputs)\n",
        "  base_model = ResNet50(weights='imagenet', input_tensor=x,include_top=False)\n",
        "  num_layers = len(base_model.layers)\n",
        "  for i, layer in enumerate (base_model.layers):\n",
        "    layer.trainable = i < 8 or i > num_layers-8\n",
        "  # from grayscale to RGB, Xception needs 3 Channel input\n",
        "  x = base_model.output\n",
        "else:\n",
        "  x = simpleNet(inputs)\n",
        "  \n",
        "# FC output layers\n",
        "output = Flatten()(x)\n",
        "output = Dense(512, activation='relu')(output)\n",
        "output = Dropout(0.5)(output)\n",
        "output = Dense(256, activation='relu')(output)\n",
        "output = Dropout(0.5)(output)\n",
        "output = Dense(2, activation='softmax')(output)\n",
        "\n",
        "model = Model (inputs=inputs, outputs=output)\n",
        "model.compile(optimizer='nadam',\n",
        "              loss='categorical_crossentropy',\n",
        "              metrics=['accuracy'])\n",
        "#model.summary()"
      ],
      "execution_count": 0,
      "outputs": []
    },
    {
      "cell_type": "code",
      "metadata": {
        "id": "MB7qB5iylc5C",
        "colab_type": "code",
        "outputId": "52cd374c-3138-48ed-abdf-258dd1dbd8e3",
        "colab": {
          "base_uri": "https://localhost:8080/",
          "height": 34
        }
      },
      "source": [
        "print(base_model.output_shape)"
      ],
      "execution_count": 0,
      "outputs": [
        {
          "output_type": "stream",
          "text": [
            "(None, 5, 5, 2048)\n"
          ],
          "name": "stdout"
        }
      ]
    },
    {
      "cell_type": "markdown",
      "metadata": {
        "id": "i4_3JVI2OuDQ",
        "colab_type": "text"
      },
      "source": [
        "Train"
      ]
    },
    {
      "cell_type": "markdown",
      "metadata": {
        "id": "Xc11zduepe7D",
        "colab_type": "text"
      },
      "source": [
        "Train using kfold"
      ]
    },
    {
      "cell_type": "code",
      "metadata": {
        "id": "UyUqG1X8pWao",
        "colab_type": "code",
        "colab": {}
      },
      "source": [
        "from sklearn.model_selection import KFold\n",
        "\n",
        "k_checkpoint_basename = 'CHK_' + date_str + '_K'\n",
        "kf = KFold (shuffle=True, n_splits=5)\n",
        "last_good_model_weights = ''\n",
        "k=0\n",
        "folds_map = {}\n",
        "for train_index, test_index in kf.split(data, labels_ce):\n",
        "  print('At fold K=',k,' with ', len(train_index), ' samples out of total ', data.shape[0])\n",
        "  kf_filepath=k_checkpoint_basename + str(k) + '.hdf5'\n",
        "  callbacks[-1].filepath = kf_filepath\n",
        "  history = model.fit_generator (generator       = datagen.flow(data[train_index], labels_ce[train_index], batch_size=16), \n",
        "                                 validation_data = datagen.flow(data[test_index] , labels_ce[test_index] , batch_size=16),\n",
        "                                 steps_per_epoch = int(data.shape[0]/5), \n",
        "                                 epochs          = 16, \n",
        "                                 callbacks       = callbacks)\n",
        "  if os.path.isfile(kf_filepath):\n",
        "    #model.load_weights (kf_filepath) #Load best\n",
        "    last_good_model_weights = kf_filepath\n",
        "  if os.path.isfile(last_good_model_weights):\n",
        "    model.load_weights (last_good_model_weights)\n",
        "  evaluation = model.evaluate_generator(test_ce_generator)\n",
        "  #print ('Evaluation Mean Squared Error on test data for k =', k, 'is:', evaluation*100.)\n",
        "  print ('Evaluation:', evaluation)\n",
        "  folds_map [k] = {\n",
        "      'evaluation'   : evaluation,\n",
        "      'history'      : history,\n",
        "      'filepath'     : kf_filepath } \n",
        "  k += 1\n"
      ],
      "execution_count": 0,
      "outputs": []
    },
    {
      "cell_type": "code",
      "metadata": {
        "colab_type": "code",
        "id": "KFz7srNa66uQ",
        "outputId": "80c6e2d6-4c0a-46cf-9b60-926f3f516e48",
        "colab": {
          "base_uri": "https://localhost:8080/",
          "height": 1000
        }
      },
      "source": [
        "\n",
        "model.load_weights('CHK_201909181440_K3.hdf5')\n",
        "evaluation = model.evaluate_generator(validation_ce_generator)\n",
        "predict = model.predict_generator(validation_ce_generator)\n",
        "\n",
        "print(evaluation)\n",
        "print(predict)\n",
        "print(validation_labels)\n",
        "type(folds_map)\n",
        "print(folds_map)"
      ],
      "execution_count": 0,
      "outputs": [
        {
          "output_type": "stream",
          "text": [
            "[0.3450590938329697, 0.7761194]\n",
            "[[0.50265676 0.49734327]\n",
            " [0.50265676 0.49734327]\n",
            " [0.50265676 0.49734327]\n",
            " [0.50265676 0.49734327]\n",
            " [0.50265676 0.49734327]\n",
            " [0.50265676 0.49734327]\n",
            " [0.50265676 0.49734327]\n",
            " [0.50265676 0.49734327]\n",
            " [0.50265676 0.49734327]\n",
            " [0.50265676 0.49734327]\n",
            " [0.50265676 0.49734327]\n",
            " [0.50265676 0.49734327]\n",
            " [0.50265676 0.49734327]\n",
            " [0.50265676 0.49734327]\n",
            " [0.50265676 0.49734327]\n",
            " [0.50265676 0.49734327]\n",
            " [0.50265676 0.49734327]\n",
            " [0.50265676 0.49734327]\n",
            " [0.50265676 0.49734327]\n",
            " [0.50265676 0.49734327]\n",
            " [0.50265676 0.49734327]\n",
            " [0.50265676 0.49734327]\n",
            " [0.50265676 0.49734327]\n",
            " [0.50265676 0.49734327]\n",
            " [0.50265676 0.49734327]\n",
            " [0.50265676 0.49734327]\n",
            " [0.50265676 0.49734327]\n",
            " [0.50265676 0.49734327]\n",
            " [0.50265676 0.49734327]\n",
            " [0.50265676 0.49734327]\n",
            " [0.50265676 0.49734327]\n",
            " [0.50265676 0.49734327]\n",
            " [0.50265676 0.49734327]\n",
            " [0.50265676 0.49734327]\n",
            " [0.50265676 0.49734327]\n",
            " [0.50265676 0.49734327]\n",
            " [0.50265676 0.49734327]\n",
            " [0.50265676 0.49734327]\n",
            " [0.50265676 0.49734327]\n",
            " [0.50265676 0.49734327]\n",
            " [0.50265676 0.49734327]\n",
            " [0.50265676 0.49734327]\n",
            " [0.50265676 0.49734327]\n",
            " [0.50265676 0.49734327]\n",
            " [0.50265676 0.49734327]\n",
            " [0.50265676 0.49734327]\n",
            " [0.50265676 0.49734327]\n",
            " [0.50265676 0.49734327]\n",
            " [0.50265676 0.49734327]\n",
            " [0.50265676 0.49734327]\n",
            " [0.50265676 0.49734327]\n",
            " [0.50265676 0.49734327]\n",
            " [0.50265676 0.49734327]\n",
            " [0.50265676 0.49734327]\n",
            " [0.50265676 0.49734327]\n",
            " [0.50265676 0.49734327]\n",
            " [0.50265676 0.49734327]\n",
            " [0.50265676 0.49734327]\n",
            " [0.50265676 0.49734327]\n",
            " [0.50265676 0.49734327]\n",
            " [0.50265676 0.49734327]\n",
            " [0.50265676 0.49734327]\n",
            " [0.50265676 0.49734327]\n",
            " [0.50265676 0.49734327]\n",
            " [0.50265676 0.49734327]\n",
            " [0.50265676 0.49734327]\n",
            " [0.50265676 0.49734327]\n",
            " [0.50265676 0.49734327]\n",
            " [0.50265676 0.49734327]\n",
            " [0.50265676 0.49734327]\n",
            " [0.50265676 0.49734327]\n",
            " [0.50265676 0.49734327]\n",
            " [0.50265676 0.49734327]\n",
            " [0.50265676 0.49734327]\n",
            " [0.50265676 0.49734327]\n",
            " [0.50265676 0.49734327]\n",
            " [0.50265676 0.49734327]\n",
            " [0.50265676 0.49734327]\n",
            " [0.50265676 0.49734327]\n",
            " [0.50265676 0.49734327]\n",
            " [0.50265676 0.49734327]\n",
            " [0.50265676 0.49734327]\n",
            " [0.50265676 0.49734327]\n",
            " [0.50265676 0.49734327]\n",
            " [0.50265676 0.49734327]\n",
            " [0.50265676 0.49734327]\n",
            " [0.50265676 0.49734327]\n",
            " [0.50265676 0.49734327]\n",
            " [0.50265676 0.49734327]\n",
            " [0.50265676 0.49734327]\n",
            " [0.50265676 0.49734327]\n",
            " [0.50265676 0.49734327]\n",
            " [0.50265676 0.49734327]\n",
            " [0.50265676 0.49734327]\n",
            " [0.50265676 0.49734327]\n",
            " [0.50265676 0.49734327]\n",
            " [0.50265676 0.49734327]\n",
            " [0.50265676 0.49734327]\n",
            " [0.50265676 0.49734327]\n",
            " [0.50265676 0.49734327]\n",
            " [0.50265676 0.49734327]\n",
            " [0.50265676 0.49734327]\n",
            " [0.50265676 0.49734327]\n",
            " [0.50265676 0.49734327]\n",
            " [0.50265676 0.49734327]\n",
            " [0.50265676 0.49734327]\n",
            " [0.50265676 0.49734327]\n",
            " [0.50265676 0.49734327]\n",
            " [0.50265676 0.49734327]\n",
            " [0.50265676 0.49734327]\n",
            " [0.50265676 0.49734327]\n",
            " [0.50265676 0.49734327]\n",
            " [0.50265676 0.49734327]\n",
            " [0.50265676 0.49734327]\n",
            " [0.50265676 0.49734327]\n",
            " [0.50265676 0.49734327]\n",
            " [0.50265676 0.49734327]\n",
            " [0.50265676 0.49734327]\n",
            " [0.50265676 0.49734327]\n",
            " [0.50265676 0.49734327]\n",
            " [0.50265676 0.49734327]\n",
            " [0.50265676 0.49734327]\n",
            " [0.50265676 0.49734327]\n",
            " [0.50265676 0.49734327]\n",
            " [0.50265676 0.49734327]\n",
            " [0.50265676 0.49734327]\n",
            " [0.50265676 0.49734327]\n",
            " [0.50265676 0.49734327]\n",
            " [0.50265676 0.49734327]\n",
            " [0.50265676 0.49734327]\n",
            " [0.50265676 0.49734327]\n",
            " [0.50265676 0.49734327]\n",
            " [0.50265676 0.49734327]\n",
            " [0.50265676 0.49734327]]\n",
            "[0. 0. 0. 0. 1. 1. 1. 0. 0. 0. 0. 0. 0. 1. 0. 0. 0. 1. 0. 0. 0. 0. 0. 1.\n",
            " 1. 0. 0. 1. 0. 1. 0. 1. 1. 0. 1. 1. 0. 1. 1. 0. 0. 0. 0. 0. 1. 0. 0. 0.\n",
            " 0. 1. 1. 0. 1. 0. 0. 0. 1. 0. 0. 0. 1. 1. 1. 0. 1. 0. 0. 0. 0. 1. 0. 0.\n",
            " 0. 0. 1. 1. 0. 0. 0. 0. 0. 0. 0. 0. 1. 0. 1. 0. 0. 1. 0. 1. 0. 1. 0. 1.\n",
            " 0. 0. 0. 1. 0. 0. 0. 1. 1. 0. 0. 0. 0. 1. 0. 1. 0. 1. 0. 0. 0. 0. 1. 0.\n",
            " 0. 0. 0. 0. 1. 0. 0. 0. 0. 0. 0. 0. 0. 0.]\n",
            "{0: {'evaluation': [0.38282954692840576, 0.2238806], 'history': <tensorflow.python.keras.callbacks.History object at 0x7f7c151d1f60>, 'filepath': 'CHK_201909181440_K0.hdf5'}, 1: {'evaluation': [0.3635913848876953, 0.7761194], 'history': <tensorflow.python.keras.callbacks.History object at 0x7f7c0d8f2a20>, 'filepath': 'CHK_201909181440_K1.hdf5'}, 2: {'evaluation': [0.36318171620368955, 0.7761194], 'history': <tensorflow.python.keras.callbacks.History object at 0x7f7c0d850588>, 'filepath': 'CHK_201909181440_K2.hdf5'}, 3: {'evaluation': [0.36311268210411074, 0.7761194], 'history': <tensorflow.python.keras.callbacks.History object at 0x7f7c0d850e10>, 'filepath': 'CHK_201909181440_K3.hdf5'}, 4: {'evaluation': [0.4012304723262787, 0.7761194], 'history': <tensorflow.python.keras.callbacks.History object at 0x7f7c0d857eb8>, 'filepath': 'CHK_201909181440_K4.hdf5'}}\n"
          ],
          "name": "stdout"
        }
      ]
    },
    {
      "cell_type": "code",
      "metadata": {
        "id": "vYcd84Tdeaaq",
        "colab_type": "code",
        "outputId": "ec73d554-7db2-4bf5-ee12-db6a921d21ed",
        "colab": {
          "base_uri": "https://localhost:8080/",
          "height": 185
        }
      },
      "source": [
        "indices = np.random.random_integers(0, train_samples.shape[0], 5)\n",
        "print(indices)\n",
        "test = train_samples[indices]\n",
        "#model.save_weights('last_iteration.hdf5')\n",
        "model.load_weights('CHK_201909181412_K0.hdf5')#checkpoint_init_name)\n",
        "pred = model.predict(test)\n",
        "print (pred)\n",
        "print (np.argmax(pred,axis=1))\n",
        "print (labels[indices])"
      ],
      "execution_count": 0,
      "outputs": [
        {
          "output_type": "stream",
          "text": [
            "[183  22 173  18  82]\n",
            "[[0.9936487  0.00635123]\n",
            " [0.9936487  0.00635123]\n",
            " [1.         0.        ]\n",
            " [1.         0.        ]\n",
            " [0.9936487  0.00635123]]\n",
            "[0 0 0 0 0]\n",
            "[1. 0. 0. 0. 0.]\n"
          ],
          "name": "stdout"
        },
        {
          "output_type": "stream",
          "text": [
            "/usr/local/lib/python3.6/dist-packages/ipykernel_launcher.py:1: DeprecationWarning: This function is deprecated. Please call randint(0, 266 + 1) instead\n",
            "  \"\"\"Entry point for launching an IPython kernel.\n"
          ],
          "name": "stderr"
        }
      ]
    }
  ]
}